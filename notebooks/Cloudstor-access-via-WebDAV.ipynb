{
 "cells": [
  {
   "cell_type": "markdown",
   "metadata": {},
   "source": [
    "# CloudStor access via WebDAV"
   ]
  },
  {
   "cell_type": "markdown",
   "metadata": {},
   "source": [
    "[CloudStor](https://www.aarnet.edu.au/network-and-services/cloud-services-applications/cloudstor/) is data storage service provided by AARNet. Individual researchers in AARNet connected institutions get 100gb of storage space for free, and research projects can apply for additional space.\n",
    "\n",
    "We're using CloudStor to store and share high-resolution scans of Sydney Stock Exchange records from the Noel Butlin Archives at ANU. By my reckoning, there's 72,843 TIFF files, each weighing in at about 100mb. I'm going to be exploring ways of getting useful structured data out of the images, but as a first step I just wanted to be able to access data *about* the files.\n",
    "\n",
    "CloudStor is an instance of OwnCloud, and OwnCloud provides WebDAV access, so I thought I'd have a go at using WebDAV to access file data on CloudStor. \n",
    "\n",
    "It works, but there are a few tricks...\n"
   ]
  },
  {
   "cell_type": "markdown",
   "metadata": {},
   "source": [
    "## Software\n",
    "\n",
    "I'm using a [Python WebDAV client](https://github.com/CloudPolis/webdav-client-python). I installed it using `pip` but ran into some problems with the dependencies. PyCurl complained that it didn't know what SSL library it was meant to use. Thanks to [StackOverflow](https://stackoverflow.com/a/48092283), I got it going with:\n",
    "\n",
    "```\n",
    "brew install curl --with-openssl\n",
    "pip install --no-cache-dir --global-option=build_ext --global-option=\"-L/usr/local/opt/openssl/lib\" --global-option=\"-I/usr/local/opt/openssl/include\" --user pycurl\n",
    "```"
   ]
  },
  {
   "cell_type": "code",
   "execution_count": 43,
   "metadata": {},
   "outputs": [],
   "source": [
    "# Import what we need\n",
    "import webdav.client as wc\n",
    "import random\n",
    "import pandas as pd\n",
    "import time\n",
    "from credentials import * # Storing my CloudStor credentials in another file"
   ]
  },
  {
   "cell_type": "markdown",
   "metadata": {},
   "source": [
    "## Configuration\n",
    "\n",
    "This was the thing that caused me most confusion.\n",
    "\n",
    "First of all, you have to create a password in CloudStor to use with WebDAV. This is **not** the password that you use to access the CloudStor web interface (via the AAF). \n",
    "\n",
    "* Log onto the CloudStor web interface (using your institutional credentials)\n",
    "* Click on **Settings** in the top menu\n",
    "* Enter your new password in the 'Password' box and click **Change password**\n",
    "\n",
    "This is the password you'll use with the WebDAV client. The WebDAV username is the email address you've used to register with CloudStor.\n",
    "\n",
    "On the bottom left of the CloudStor web interface is another **Settings** link. If you click it it displays the url to use with WebDAV: `https://cloudstor.aarnet.edu.au/plus/remote.php/webdav/`\n",
    "\n",
    "Originally, I just plugged this link in below as the `webdav_hostname` and at first things seemed to work. I could list the contents of a directory, but I couldn't get resource information or download a file. Eventually, [amongst the  issues](https://github.com/CloudPolis/webdav-client-python/issues/18) on the client's GitHub site, I found the answer. You have to separate the host from the path, and supply the path as `webdav_root`.\n"
   ]
  },
  {
   "cell_type": "code",
   "execution_count": 37,
   "metadata": {},
   "outputs": [],
   "source": [
    "# Set the connection options. CLOUDSTOR_USER and CLOUDSTOR_PW are stored in a separate credentials file.\n",
    "options = {\n",
    "    'webdav_hostname': 'https://cloudstor.aarnet.edu.au',\n",
    "    'webdav_login':    CLOUDSTOR_USER,\n",
    "    'webdav_password': CLOUDSTOR_PW,\n",
    "    'webdav_root': '/plus/remote.php/webdav/''\n",
    "}"
   ]
  },
  {
   "cell_type": "markdown",
   "metadata": {},
   "source": [
    "## Getting file lists"
   ]
  },
  {
   "cell_type": "code",
   "execution_count": 38,
   "metadata": {},
   "outputs": [],
   "source": [
    "# Ok let's initiate the client.\n",
    "client = wc.Client(options)"
   ]
  },
  {
   "cell_type": "code",
   "execution_count": 39,
   "metadata": {},
   "outputs": [],
   "source": [
    "# Use .list() to get a list of resources in the directory\n",
    "# In this case it's a list of subdirectories\n",
    "dirs = client.list('Shared/ANU-Library/Sydney Stock Exchange 1901-1950/')\n",
    "# For some reason the parent directory is included in the list, let's filter it out\n",
    "dirs = [d for d in dirs if d[:2] == 'AU']"
   ]
  },
  {
   "cell_type": "code",
   "execution_count": 40,
   "metadata": {},
   "outputs": [
    {
     "name": "stdout",
     "output_type": "stream",
     "text": [
      "AU NBAC N193-001/: 303 files\n",
      "AU NBAC N193-002/: 312 files\n",
      "AU NBAC N193-003/: 345 files\n",
      "AU NBAC N193-004/: 312 files\n",
      "AU NBAC N193-005/: 305 files\n",
      "AU NBAC N193-006/: 334 files\n",
      "AU NBAC N193-007/: 349 files\n",
      "AU NBAC N193-008/: 318 files\n",
      "AU NBAC N193-009/: 327 files\n",
      "AU NBAC N193-010/: 327 files\n",
      "AU NBAC N193-011/: 350 files\n",
      "AU NBAC N193-012/: 310 files\n",
      "AU NBAC N193-013/: 330 files\n",
      "AU NBAC N193-014/: 329 files\n",
      "AU NBAC N193-015/: 349 files\n",
      "AU NBAC N193-016/: 313 files\n",
      "AU NBAC N193-017/: 331 files\n",
      "AU NBAC N193-018/: 322 files\n",
      "AU NBAC N193-019/: 348 files\n",
      "AU NBAC N193-020/: 312 files\n",
      "AU NBAC N193-021/: 330 files\n",
      "AU NBAC N193-022/: 314 files\n",
      "AU NBAC N193-023/: 344 files\n",
      "AU NBAC N193-024/: 310 files\n",
      "AU NBAC N193-025/: 323 files\n",
      "AU NBAC N193-026/: 332 files\n",
      "AU NBAC N193-027/: 349 files\n",
      "AU NBAC N193-028/: 314 files\n",
      "AU NBAC N193-029/: 328 files\n",
      "AU NBAC N193-030/: 327 files\n",
      "AU NBAC N193-031/: 339 files\n",
      "AU NBAC N193-032/: 316 files\n",
      "AU NBAC N193-033/: 329 files\n",
      "AU NBAC N193-034/: 322 files\n",
      "AU NBAC N193-035/: 351 files\n",
      "AU NBAC N193-036/: 317 files\n",
      "AU NBAC N193-037/: 300 files\n",
      "AU NBAC N193-038/: 328 files\n",
      "AU NBAC N193-039/: 350 files\n",
      "AU NBAC N193-040/: 320 files\n",
      "AU NBAC N193-041/: 325 files\n",
      "AU NBAC N193-042/: 318 files\n",
      "AU NBAC N193-043/: 344 files\n",
      "AU NBAC N193-044/: 317 files\n",
      "AU NBAC N193-045/: 331 files\n",
      "AU NBAC N193-046/: 317 files\n",
      "AU NBAC N193-047/: 350 files\n",
      "AU NBAC N193-048/: 314 files\n",
      "AU NBAC N193-049/: 296 files\n",
      "AU NBAC N193-050/: 338 files\n",
      "AU NBAC N193-051/: 351 files\n",
      "AU NBAC N193-052/: 314 files\n",
      "AU NBAC N193-053/: 326 files\n",
      "AU NBAC N193-054/: 315 files\n",
      "AU NBAC N193-055/: 167 files\n",
      "AU NBAC N193-056/: 315 files\n",
      "AU NBAC N193-057/: 318 files\n",
      "AU NBAC N193-058/: 309 files\n",
      "AU NBAC N193-059/: 347 files\n",
      "AU NBAC N193-060/: 313 files\n",
      "AU NBAC N193-061/: 317 files\n",
      "AU NBAC N193-062/: 312 files\n",
      "AU NBAC N193-063/: 345 files\n",
      "AU NBAC N193-064/: 309 files\n",
      "AU NBAC N193-065/: 317 files\n",
      "AU NBAC N193-066/: 307 files\n",
      "AU NBAC N193-067/: 343 files\n",
      "AU NBAC N193-068/: 313 files\n",
      "AU NBAC N193-069/: 310 files\n",
      "AU NBAC N193-070/: 325 files\n",
      "AU NBAC N193-071/: 352 files\n",
      "AU NBAC N193-072/: 296 files\n",
      "AU NBAC N193-073/: 321 files\n",
      "AU NBAC N193-074/: 314 files\n",
      "AU NBAC N193-075/: 348 files\n",
      "AU NBAC N193-076/: 306 files\n",
      "AU NBAC N193-077/: 331 files\n",
      "AU NBAC N193-078/: 309 files\n",
      "AU NBAC N193-079/: 351 files\n",
      "AU NBAC N193-080/: 318 files\n",
      "AU NBAC N193-081/: 281 files\n",
      "AU NBAC N193-082/: 333 files\n",
      "AU NBAC N193-083/: 350 files\n",
      "AU NBAC N193-084/: 312 files\n",
      "AU NBAC N193-085/: 315 files\n",
      "AU NBAC N193-086/: 307 files\n",
      "AU NBAC N193-087/: 349 files\n",
      "AU NBAC N193-088/: 316 files\n",
      "AU NBAC N193-089/: 306 files\n",
      "AU NBAC N193-090/: 316 files\n",
      "AU NBAC N193-091/: 343 files\n",
      "AU NBAC N193-092/: 319 files\n",
      "AU NBAC N193-093/: 325 files\n",
      "AU NBAC N193-094/: 301 files\n",
      "AU NBAC N193-095/: 351 files\n",
      "AU NBAC N193-096/: 317 files\n",
      "AU NBAC N193-097/: 314 files\n",
      "AU NBAC N193-098/: 308 files\n",
      "AU NBAC N193-099/: 346 files\n",
      "AU NBAC N193-100/: 318 files\n",
      "AU NBAC N193-101/: 316 files\n",
      "AU NBAC N193-102/: 314 files\n",
      "AU NBAC N193-103/: 352 files\n",
      "AU NBAC N193-104/: 313 files\n",
      "AU NBAC N193-105/: 320 files\n",
      "AU NBAC N193-106/: 312 files\n",
      "AU NBAC N193-107/: 351 files\n",
      "AU NBAC N193-108/: 310 files\n",
      "AU NBAC N193-109/: 331 files\n",
      "AU NBAC N193-110/: 310 files\n",
      "AU NBAC N193-111/: 345 files\n",
      "AU NBAC N193-112/: 317 files\n",
      "AU NBAC N193-113/: 305 files\n",
      "AU NBAC N193-114/: 326 files\n",
      "AU NBAC N193-115/: 351 files\n",
      "AU NBAC N193-116/: 314 files\n",
      "AU NBAC N193-117/: 322 files\n",
      "AU NBAC N193-118/: 307 files\n",
      "AU NBAC N193-119/: 352 files\n",
      "AU NBAC N193-120/: 317 files\n",
      "AU NBAC N193-121/: 322 files\n",
      "AU NBAC N193-122/: 314 files\n",
      "AU NBAC N193-123/: 347 files\n",
      "AU NBAC N193-124/: 318 files\n",
      "AU NBAC N193-125/: 296 files\n",
      "AU NBAC N193-126/: 340 files\n",
      "AU NBAC N193-127/: 351 files\n",
      "AU NBAC N193-128/: 312 files\n",
      "AU NBAC N193-129/: 327 files\n",
      "AU NBAC N193-130/: 307 files\n",
      "AU NBAC N193-131/: 348 files\n",
      "AU NBAC N193-132/: 315 files\n",
      "AU NBAC N193-133/: 303 files\n",
      "AU NBAC N193-134/: 309 files\n",
      "AU NBAC N193-135/: 390 files\n",
      "AU NBAC N193-136/: 366 files\n",
      "AU NBAC N193-137/: 375 files\n",
      "AU NBAC N193-138/: 366 files\n",
      "AU NBAC N193-139/: 418 files\n",
      "AU NBAC N193-140/: 371 files\n",
      "AU NBAC N193-141/: 381 files\n",
      "AU NBAC N193-142/: 374 files\n",
      "AU NBAC N193-143/: 417 files\n",
      "AU NBAC N193-144/: 366 files\n",
      "AU NBAC N193-145/: 359 files\n",
      "AU NBAC N193-146/: 605 files\n",
      "AU NBAC N193-147/: 621 files\n",
      "AU NBAC N193-148/: 564 files\n",
      "AU NBAC N193-149/: 585 files\n",
      "AU NBAC N193-150/: 555 files\n",
      "AU NBAC N193-151/: 623 files\n",
      "AU NBAC N193-152/: 555 files\n",
      "AU NBAC N193-153/: 600 files\n",
      "AU NBAC N193-154/: 573 files\n",
      "AU NBAC N193-155/: 606 files\n",
      "AU NBAC N193-156/: 559 files\n",
      "AU NBAC N193-157/: 579 files\n",
      "AU NBAC N193-158/: 606 files\n",
      "AU NBAC N193-159/: 633 files\n",
      "AU NBAC N193-160/: 556 files\n",
      "AU NBAC N193-161/: 593 files\n",
      "AU NBAC N193-162/: 571 files\n",
      "AU NBAC N193-163/: 633 files\n",
      "AU NBAC N193-164/: 600 files\n",
      "AU NBAC N193-165/: 439 files\n",
      "AU NBAC N193-166/: 408 files\n",
      "AU NBAC N193-167/: 429 files\n",
      "AU NBAC N193-168/: 414 files\n",
      "AU NBAC N193-169/: 417 files\n",
      "AU NBAC N193-170/: 408 files\n",
      "AU NBAC N193-171/: 428 files\n",
      "AU NBAC N193-172/: 392 files\n",
      "AU NBAC N193-173/: 437 files\n",
      "AU NBAC N193-174/: 393 files\n",
      "AU NBAC N193-175/: 426 files\n",
      "AU NBAC N193-176/: 384 files\n",
      "AU NBAC N193-177/: 394 files\n",
      "AU NBAC N193-178/: 400 files\n",
      "AU NBAC N193-179/: 411 files\n",
      "AU NBAC N193-180/: 384 files\n",
      "AU NBAC N193-181/: 405 files\n",
      "AU NBAC N193-182/: 379 files\n",
      "AU NBAC N193-183/: 264 files\n",
      "AU NBAC N193-184/: 389 files\n",
      "AU NBAC N193-185/: 397 files\n",
      "AU NBAC N193-186/: 387 files\n",
      "AU NBAC N193-187/: 430 files\n",
      "AU NBAC N193-188/: 387 files\n",
      "AU NBAC N193-189/: 346 files\n",
      "AU NBAC N193-190/: 378 files\n",
      "AU NBAC N193-191/: 489 files\n",
      "AU NBAC N193-192/: 468 files\n",
      "AU NBAC N193-193/: 488 files\n",
      "AU NBAC N193-194/: 468 files\n",
      "AU NBAC N193-195/: 520 files\n",
      "AU NBAC N193-196/: 461 files\n",
      "AU NBAC N193-197/: 496 files\n",
      "AU NBAC N193-198/: 468 files\n"
     ]
    }
   ],
   "source": [
    "# Loop through all the subdirectories and use .list() again to get all the filenames\n",
    "details = []\n",
    "summary = []\n",
    "for d in dirs:\n",
    "    files = [f for f in client.list('Shared/ANU-Library/Sydney Stock Exchange 1901-1950/{}'.format(d)) if f[:1] == 'N']\n",
    "    print('{}: {} files'.format(d, len(files)))\n",
    "    # Save the details for each subdirectory\n",
    "    summary.append({'directory': d, 'number': len(files)})\n",
    "    for f in files:\n",
    "        path = 'Shared/ANU-Library/Sydney Stock Exchange 1901-1950/{}{}'.format(d, f)\n",
    "        # This slows things down a lot, so disable for now\n",
    "        # info = client.info(path)\n",
    "        info = {}\n",
    "        info['name'] = f\n",
    "        info['directory'] = d\n",
    "        info['path'] = path\n",
    "        # print(info)\n",
    "        details.append(info)\n",
    "    time.sleep(0.5)"
   ]
  },
  {
   "cell_type": "code",
   "execution_count": 44,
   "metadata": {},
   "outputs": [
    {
     "data": {
      "text/plain": [
       "72843"
      ]
     },
     "execution_count": 44,
     "metadata": {},
     "output_type": "execute_result"
    }
   ],
   "source": [
    "# How many files are there?\n",
    "len(details)"
   ]
  },
  {
   "cell_type": "code",
   "execution_count": 72,
   "metadata": {
    "scrolled": true
   },
   "outputs": [
    {
     "data": {
      "text/plain": [
       "{'created': None,\n",
       " 'name': None,\n",
       " 'size': '106240746',\n",
       " 'modified': 'Wed, 13 Jun 2018 01:56:48 GMT'}"
      ]
     },
     "execution_count": 72,
     "metadata": {},
     "output_type": "execute_result"
    }
   ],
   "source": [
    "# Get some information on individual files\n",
    "client.info('Shared/ANU-Library/Sydney Stock Exchange 1901-1950/{}/{}'.format('AU NBAC N193-001', 'N193-001_0001.tif'))"
   ]
  },
  {
   "cell_type": "markdown",
   "metadata": {},
   "source": [
    "## Saving the results\n",
    "\n",
    "I saved the results as CSV files — one for [files](files.csv) and one for [directories](directories.csv)."
   ]
  },
  {
   "cell_type": "code",
   "execution_count": 17,
   "metadata": {},
   "outputs": [],
   "source": [
    "# Save previously downloaded data as CSV files so that I don't have to do it again\n",
    "# I use Pandas for these conversions because it's easy\n",
    "df_files = pd.DataFrame(details)\n",
    "df_files.to_csv('files.csv', index=False)\n",
    "df_dirs = pd.DataFrame(summary)\n",
    "df_dirs.to_csv('directories.csv', index=False)"
   ]
  },
  {
   "cell_type": "code",
   "execution_count": 34,
   "metadata": {},
   "outputs": [],
   "source": [
    "# Load previously harvested data\n",
    "files = pd.read_csv('files.csv').to_dict('records')\n",
    "directories = pd.read_csv('directories.csv').to_dict('records')"
   ]
  },
  {
   "cell_type": "markdown",
   "metadata": {},
   "source": [
    "## Getting a random sample of images\n",
    "\n",
    "To do some testing on the images, I wanted to download a random sample."
   ]
  },
  {
   "cell_type": "code",
   "execution_count": 35,
   "metadata": {},
   "outputs": [
    {
     "data": {
      "text/plain": [
       "[{'directory': 'AU NBAC N193-140/',\n",
       "  'name': 'N193-140_0317.tif',\n",
       "  'path': 'Shared/ANU-Library/Sydney Stock Exchange 1901-1950/AU NBAC N193-140/N193-140_0317.tif'},\n",
       " {'directory': 'AU NBAC N193-050/',\n",
       "  'name': 'N193-050_0097.tif',\n",
       "  'path': 'Shared/ANU-Library/Sydney Stock Exchange 1901-1950/AU NBAC N193-050/N193-050_0097.tif'},\n",
       " {'directory': 'AU NBAC N193-123/',\n",
       "  'name': 'N193-123_0009.tif',\n",
       "  'path': 'Shared/ANU-Library/Sydney Stock Exchange 1901-1950/AU NBAC N193-123/N193-123_0009.tif'},\n",
       " {'directory': 'AU NBAC N193-141/',\n",
       "  'name': 'N193-141_0294.tif',\n",
       "  'path': 'Shared/ANU-Library/Sydney Stock Exchange 1901-1950/AU NBAC N193-141/N193-141_0294.tif'},\n",
       " {'directory': 'AU NBAC N193-025/',\n",
       "  'name': 'N193-025_0076.tif',\n",
       "  'path': 'Shared/ANU-Library/Sydney Stock Exchange 1901-1950/AU NBAC N193-025/N193-025_0076.tif'},\n",
       " {'directory': 'AU NBAC N193-193/',\n",
       "  'name': 'N193-193_0132.tif',\n",
       "  'path': 'Shared/ANU-Library/Sydney Stock Exchange 1901-1950/AU NBAC N193-193/N193-193_0132.tif'},\n",
       " {'directory': 'AU NBAC N193-102/',\n",
       "  'name': 'N193-102_0286.tif',\n",
       "  'path': 'Shared/ANU-Library/Sydney Stock Exchange 1901-1950/AU NBAC N193-102/N193-102_0286.tif'},\n",
       " {'directory': 'AU NBAC N193-048/',\n",
       "  'name': 'N193-048_0284.tif',\n",
       "  'path': 'Shared/ANU-Library/Sydney Stock Exchange 1901-1950/AU NBAC N193-048/N193-048_0284.tif'},\n",
       " {'directory': 'AU NBAC N193-087/',\n",
       "  'name': 'N193-087_0168.tif',\n",
       "  'path': 'Shared/ANU-Library/Sydney Stock Exchange 1901-1950/AU NBAC N193-087/N193-087_0168.tif'},\n",
       " {'directory': 'AU NBAC N193-165/',\n",
       "  'name': 'N193-165_0241.tif',\n",
       "  'path': 'Shared/ANU-Library/Sydney Stock Exchange 1901-1950/AU NBAC N193-165/N193-165_0241.tif'}]"
      ]
     },
     "execution_count": 35,
     "metadata": {},
     "output_type": "execute_result"
    }
   ],
   "source": [
    "# First we'll make a random selection from the list of file names.\n",
    "random_files = random.sample(files, 10)\n",
    "random_files"
   ]
  },
  {
   "cell_type": "code",
   "execution_count": 29,
   "metadata": {},
   "outputs": [
    {
     "name": "stdout",
     "output_type": "stream",
     "text": [
      "Downloading N193-019_0217.tif\n",
      "Downloading N193-127_0222.tif\n",
      "Downloading N193-145_0325.tif\n",
      "Downloading N193-163_0009.tif\n",
      "Downloading N193-120_0118.tif\n",
      "Downloading N193-009_0289.tif\n",
      "Downloading N193-012_0142.tif\n",
      "Downloading N193-161_0085.tif\n",
      "Downloading N193-101_0132.tif\n",
      "Downloading N193-190_0228.tif\n"
     ]
    }
   ],
   "source": [
    "# Then we'll just loop through the randomly selected files and download them\n",
    "for image in random_files:\n",
    "    print('Downloading {}'.format(image['name']))\n",
    "    client.download_sync(remote_path=image['path'], local_path='images/{}'.format(image['name']))"
   ]
  },
  {
   "cell_type": "markdown",
   "metadata": {},
   "source": [
    "## But wait there's more...\n",
    "\n",
    "Wondering how to access a public share? Have [a look here](Cloudstor-access-to-a-public-share-via-WebDAV.ipynb)..."
   ]
  },
  {
   "cell_type": "code",
   "execution_count": null,
   "metadata": {},
   "outputs": [],
   "source": []
  }
 ],
 "metadata": {
  "kernelspec": {
   "display_name": "Python 3",
   "language": "python",
   "name": "python3"
  },
  "language_info": {
   "codemirror_mode": {
    "name": "ipython",
    "version": 3
   },
   "file_extension": ".py",
   "mimetype": "text/x-python",
   "name": "python",
   "nbconvert_exporter": "python",
   "pygments_lexer": "ipython3",
   "version": "3.6.5"
  }
 },
 "nbformat": 4,
 "nbformat_minor": 2
}
